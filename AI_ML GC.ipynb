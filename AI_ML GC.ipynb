{
 "cells": [
  {
   "cell_type": "code",
   "execution_count": 1,
   "id": "63460031",
   "metadata": {},
   "outputs": [],
   "source": [
    "import pandas as pd\n",
    "#from tensor.keras.preprocessing.image import ImageDataGenerator, load_img, img_to_array\n",
    "import os\n",
    "import shutil"
   ]
  },
  {
   "cell_type": "code",
   "execution_count": 2,
   "id": "c6c674d6",
   "metadata": {},
   "outputs": [],
   "source": [
    "file_path = 'C:/Users/asus/OneDrive/Desktop/Project/aiml-general-championship/KCDH2024_Training_GroundTruth.csv'\n",
    "df = pd.read_csv(file_path)"
   ]
  },
  {
   "cell_type": "code",
   "execution_count": 3,
   "id": "cb9e2520",
   "metadata": {},
   "outputs": [
    {
     "data": {
      "text/html": [
       "<div>\n",
       "<style scoped>\n",
       "    .dataframe tbody tr th:only-of-type {\n",
       "        vertical-align: middle;\n",
       "    }\n",
       "\n",
       "    .dataframe tbody tr th {\n",
       "        vertical-align: top;\n",
       "    }\n",
       "\n",
       "    .dataframe thead th {\n",
       "        text-align: right;\n",
       "    }\n",
       "</style>\n",
       "<table border=\"1\" class=\"dataframe\">\n",
       "  <thead>\n",
       "    <tr style=\"text-align: right;\">\n",
       "      <th></th>\n",
       "      <th>image</th>\n",
       "      <th>MEL</th>\n",
       "      <th>NV</th>\n",
       "      <th>BCC</th>\n",
       "      <th>AKIEC</th>\n",
       "      <th>BKL</th>\n",
       "      <th>DF</th>\n",
       "      <th>VASC</th>\n",
       "    </tr>\n",
       "  </thead>\n",
       "  <tbody>\n",
       "    <tr>\n",
       "      <th>0</th>\n",
       "      <td>ISIC_0024306</td>\n",
       "      <td>0</td>\n",
       "      <td>1</td>\n",
       "      <td>0</td>\n",
       "      <td>0</td>\n",
       "      <td>0</td>\n",
       "      <td>0</td>\n",
       "      <td>0</td>\n",
       "    </tr>\n",
       "    <tr>\n",
       "      <th>1</th>\n",
       "      <td>ISIC_0024307</td>\n",
       "      <td>0</td>\n",
       "      <td>1</td>\n",
       "      <td>0</td>\n",
       "      <td>0</td>\n",
       "      <td>0</td>\n",
       "      <td>0</td>\n",
       "      <td>0</td>\n",
       "    </tr>\n",
       "    <tr>\n",
       "      <th>2</th>\n",
       "      <td>ISIC_0024308</td>\n",
       "      <td>0</td>\n",
       "      <td>1</td>\n",
       "      <td>0</td>\n",
       "      <td>0</td>\n",
       "      <td>0</td>\n",
       "      <td>0</td>\n",
       "      <td>0</td>\n",
       "    </tr>\n",
       "    <tr>\n",
       "      <th>3</th>\n",
       "      <td>ISIC_0024309</td>\n",
       "      <td>0</td>\n",
       "      <td>1</td>\n",
       "      <td>0</td>\n",
       "      <td>0</td>\n",
       "      <td>0</td>\n",
       "      <td>0</td>\n",
       "      <td>0</td>\n",
       "    </tr>\n",
       "    <tr>\n",
       "      <th>4</th>\n",
       "      <td>ISIC_0024310</td>\n",
       "      <td>1</td>\n",
       "      <td>0</td>\n",
       "      <td>0</td>\n",
       "      <td>0</td>\n",
       "      <td>0</td>\n",
       "      <td>0</td>\n",
       "      <td>0</td>\n",
       "    </tr>\n",
       "    <tr>\n",
       "      <th>5</th>\n",
       "      <td>ISIC_0024311</td>\n",
       "      <td>0</td>\n",
       "      <td>1</td>\n",
       "      <td>0</td>\n",
       "      <td>0</td>\n",
       "      <td>0</td>\n",
       "      <td>0</td>\n",
       "      <td>0</td>\n",
       "    </tr>\n",
       "    <tr>\n",
       "      <th>6</th>\n",
       "      <td>ISIC_0024312</td>\n",
       "      <td>0</td>\n",
       "      <td>0</td>\n",
       "      <td>0</td>\n",
       "      <td>0</td>\n",
       "      <td>1</td>\n",
       "      <td>0</td>\n",
       "      <td>0</td>\n",
       "    </tr>\n",
       "    <tr>\n",
       "      <th>7</th>\n",
       "      <td>ISIC_0024313</td>\n",
       "      <td>1</td>\n",
       "      <td>0</td>\n",
       "      <td>0</td>\n",
       "      <td>0</td>\n",
       "      <td>0</td>\n",
       "      <td>0</td>\n",
       "      <td>0</td>\n",
       "    </tr>\n",
       "    <tr>\n",
       "      <th>8</th>\n",
       "      <td>ISIC_0024314</td>\n",
       "      <td>0</td>\n",
       "      <td>1</td>\n",
       "      <td>0</td>\n",
       "      <td>0</td>\n",
       "      <td>0</td>\n",
       "      <td>0</td>\n",
       "      <td>0</td>\n",
       "    </tr>\n",
       "    <tr>\n",
       "      <th>9</th>\n",
       "      <td>ISIC_0024315</td>\n",
       "      <td>1</td>\n",
       "      <td>0</td>\n",
       "      <td>0</td>\n",
       "      <td>0</td>\n",
       "      <td>0</td>\n",
       "      <td>0</td>\n",
       "      <td>0</td>\n",
       "    </tr>\n",
       "  </tbody>\n",
       "</table>\n",
       "</div>"
      ],
      "text/plain": [
       "          image  MEL  NV  BCC  AKIEC  BKL  DF  VASC\n",
       "0  ISIC_0024306    0   1    0      0    0   0     0\n",
       "1  ISIC_0024307    0   1    0      0    0   0     0\n",
       "2  ISIC_0024308    0   1    0      0    0   0     0\n",
       "3  ISIC_0024309    0   1    0      0    0   0     0\n",
       "4  ISIC_0024310    1   0    0      0    0   0     0\n",
       "5  ISIC_0024311    0   1    0      0    0   0     0\n",
       "6  ISIC_0024312    0   0    0      0    1   0     0\n",
       "7  ISIC_0024313    1   0    0      0    0   0     0\n",
       "8  ISIC_0024314    0   1    0      0    0   0     0\n",
       "9  ISIC_0024315    1   0    0      0    0   0     0"
      ]
     },
     "execution_count": 3,
     "metadata": {},
     "output_type": "execute_result"
    }
   ],
   "source": [
    "df.head(10)"
   ]
  },
  {
   "cell_type": "raw",
   "id": "8191b5d2",
   "metadata": {},
   "source": [
    "Melanoma (MEL)\n",
    "Melanocytic nevus (NV)\n",
    "Basal cell carcinoma (BCC)\n",
    "Actinic keratosis / Bowen’s disease (intraepithelial carcinoma) (AKIEC)\n",
    "Benign keratosis (solar lentigo / seborrheic keratosis / lichen planus-like keratosis) (BKL)\n",
    "Dermatofibroma (DF)\n",
    "Vascular lesion (VASC)"
   ]
  },
  {
   "cell_type": "code",
   "execution_count": 4,
   "id": "79b92d89",
   "metadata": {},
   "outputs": [
    {
     "name": "stdout",
     "output_type": "stream",
     "text": [
      "<class 'pandas.core.frame.DataFrame'>\n",
      "RangeIndex: 10015 entries, 0 to 10014\n",
      "Data columns (total 8 columns):\n",
      " #   Column  Non-Null Count  Dtype \n",
      "---  ------  --------------  ----- \n",
      " 0   image   10015 non-null  object\n",
      " 1   MEL     10015 non-null  int64 \n",
      " 2   NV      10015 non-null  int64 \n",
      " 3   BCC     10015 non-null  int64 \n",
      " 4   AKIEC   10015 non-null  int64 \n",
      " 5   BKL     10015 non-null  int64 \n",
      " 6   DF      10015 non-null  int64 \n",
      " 7   VASC    10015 non-null  int64 \n",
      "dtypes: int64(7), object(1)\n",
      "memory usage: 626.1+ KB\n"
     ]
    }
   ],
   "source": [
    "df.info() #NO null data points found "
   ]
  },
  {
   "cell_type": "code",
   "execution_count": 16,
   "id": "31bab8ef",
   "metadata": {},
   "outputs": [],
   "source": [
    "input_folder = 'C:/Users/asus/OneDrive/Desktop/Project/aiml-general-championship/KCDH2024_Training_Input_10K/KCDH2024_Training_Input_10K'\n",
    "output_folders = ['MEL', 'NV', 'BCC', 'AKIEC', 'BKL', 'DF', 'VASC']"
   ]
  },
  {
   "cell_type": "code",
   "execution_count": 15,
   "id": "7feeb40b",
   "metadata": {},
   "outputs": [
    {
     "ename": "FileNotFoundError",
     "evalue": "[Errno 2] No such file or directory: 'C:/Users/asus/OneDrive/Desktop/Project/aiml-general-championship/KCDH2024_Training_Input_10K/KCDH2024_Training_Input_10K\\\\ISIC_0033906.jpg'",
     "output_type": "error",
     "traceback": [
      "\u001b[1;31m---------------------------------------------------------------------------\u001b[0m",
      "\u001b[1;31mFileNotFoundError\u001b[0m                         Traceback (most recent call last)",
      "Cell \u001b[1;32mIn[15], line 11\u001b[0m\n\u001b[0;32m      9\u001b[0m source_path \u001b[38;5;241m=\u001b[39m os\u001b[38;5;241m.\u001b[39mpath\u001b[38;5;241m.\u001b[39mjoin(input_folder, image_name)\n\u001b[0;32m     10\u001b[0m destination_path \u001b[38;5;241m=\u001b[39m os\u001b[38;5;241m.\u001b[39mpath\u001b[38;5;241m.\u001b[39mjoin(disease_class, image_name)\n\u001b[1;32m---> 11\u001b[0m shutil\u001b[38;5;241m.\u001b[39mcopyfile(source_path, destination_path)\n",
      "File \u001b[1;32m~\\anaconda3\\Lib\\shutil.py:256\u001b[0m, in \u001b[0;36mcopyfile\u001b[1;34m(src, dst, follow_symlinks)\u001b[0m\n\u001b[0;32m    254\u001b[0m     os\u001b[38;5;241m.\u001b[39msymlink(os\u001b[38;5;241m.\u001b[39mreadlink(src), dst)\n\u001b[0;32m    255\u001b[0m \u001b[38;5;28;01melse\u001b[39;00m:\n\u001b[1;32m--> 256\u001b[0m     \u001b[38;5;28;01mwith\u001b[39;00m \u001b[38;5;28mopen\u001b[39m(src, \u001b[38;5;124m'\u001b[39m\u001b[38;5;124mrb\u001b[39m\u001b[38;5;124m'\u001b[39m) \u001b[38;5;28;01mas\u001b[39;00m fsrc:\n\u001b[0;32m    257\u001b[0m         \u001b[38;5;28;01mtry\u001b[39;00m:\n\u001b[0;32m    258\u001b[0m             \u001b[38;5;28;01mwith\u001b[39;00m \u001b[38;5;28mopen\u001b[39m(dst, \u001b[38;5;124m'\u001b[39m\u001b[38;5;124mwb\u001b[39m\u001b[38;5;124m'\u001b[39m) \u001b[38;5;28;01mas\u001b[39;00m fdst:\n\u001b[0;32m    259\u001b[0m                 \u001b[38;5;66;03m# macOS\u001b[39;00m\n",
      "\u001b[1;31mFileNotFoundError\u001b[0m: [Errno 2] No such file or directory: 'C:/Users/asus/OneDrive/Desktop/Project/aiml-general-championship/KCDH2024_Training_Input_10K/KCDH2024_Training_Input_10K\\\\ISIC_0033906.jpg'"
     ]
    }
   ],
   "source": [
    "for folders in output_folders:\n",
    "    os.makedirs(folders, exist_ok=True)\n",
    "    \n",
    "for index, row in df.iterrows():\n",
    "    image_name = row['image'] + '.jpg'\n",
    "    \n",
    "    for i, disease_class in enumerate(output_folders):\n",
    "        if row[output_folders[i]] == 1:\n",
    "            source_path = os.path.join(input_folder, image_name)\n",
    "            destination_path = os.path.join(disease_class, image_name)\n",
    "            shutil.copyfile(source_path, destination_path)"
   ]
  },
  {
   "cell_type": "code",
   "execution_count": null,
   "id": "3226316f",
   "metadata": {},
   "outputs": [],
   "source": []
  }
 ],
 "metadata": {
  "kernelspec": {
   "display_name": "Python 3 (ipykernel)",
   "language": "python",
   "name": "python3"
  },
  "language_info": {
   "codemirror_mode": {
    "name": "ipython",
    "version": 3
   },
   "file_extension": ".py",
   "mimetype": "text/x-python",
   "name": "python",
   "nbconvert_exporter": "python",
   "pygments_lexer": "ipython3",
   "version": "3.11.5"
  }
 },
 "nbformat": 4,
 "nbformat_minor": 5
}
